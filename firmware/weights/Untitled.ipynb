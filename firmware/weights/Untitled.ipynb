{
 "cells": [
  {
   "cell_type": "code",
   "execution_count": 1,
   "id": "0fbe0d6c",
   "metadata": {},
   "outputs": [
    {
     "name": "stdout",
     "output_type": "stream",
     "text": [
      "model_weightdefault_t w4 [ 1600 ],\n",
      "model_weightdefault_t w22 [ 36864 ],\n",
      "model_weightdefault_t w27 [ 73728 ],\n",
      "model_weightdefault_t w18 [ 18432 ],\n",
      "model_weightdefault_t w9 [ 4608 ],\n",
      "model_weightdefault_t w13 [ 9216 ],\n",
      "model_weightdefault_t w45 [ 589824 ],\n",
      "model_weightdefault_t w36 [ 294912 ],\n",
      "model_weightdefault_t w53 [ 256 ],\n",
      "model_weightdefault_t w31 [ 147456 ],\n",
      "model_weightdefault_t w49 [ 65536 ],\n",
      "model_weightdefault_t w40 [ 589824 ],\n"
     ]
    }
   ],
   "source": [
    "import os\n",
    "\n",
    "directory = os.fsencode(\"./\")\n",
    "    \n",
    "for file in os.listdir(directory):\n",
    "    filename = os.fsdecode(file)\n",
    "    if \".ipynb\" in filename:\n",
    "        continue\n",
    "#     print(filename)\n",
    "    with open(filename,'r') as data_file:\n",
    "        for line in data_file:\n",
    "            if \"w\" in filename and \".txt\" in filename:\n",
    "                data = line.split()\n",
    "                filename = filename.replace(\".txt\", \"\")\n",
    "                print(\"model_weightdefault_t\", filename, \"[\", len(data), \"],\")\n",
    "                \n"
   ]
  },
  {
   "cell_type": "code",
   "execution_count": 2,
   "id": "3503e7f0",
   "metadata": {},
   "outputs": [
    {
     "name": "stdout",
     "output_type": "stream",
     "text": [
      "model_weightdefault_t  w4 [ 1600 ];\n",
      "model_weightdefault_t  w22 [ 36864 ];\n",
      "model_weightdefault_t  w27 [ 73728 ];\n",
      "model_weightdefault_t  w18 [ 18432 ];\n",
      "model_weightdefault_t  w9 [ 4608 ];\n",
      "model_weightdefault_t  w13 [ 9216 ];\n",
      "model_weightdefault_t  w45 [ 589824 ];\n",
      "model_weightdefault_t  w36 [ 294912 ];\n",
      "model_weightdefault_t  w53 [ 256 ];\n",
      "model_weightdefault_t  w31 [ 147456 ];\n",
      "model_weightdefault_t  w49 [ 65536 ];\n",
      "model_weightdefault_t  w40 [ 589824 ];\n"
     ]
    }
   ],
   "source": [
    "import os\n",
    "\n",
    "directory = os.fsencode(\"./\")\n",
    "    \n",
    "for file in os.listdir(directory):\n",
    "    filename = os.fsdecode(file)\n",
    "    if \".ipynb\" in filename:\n",
    "        continue\n",
    "#     print(filename)\n",
    "    with open(filename,'r') as data_file:\n",
    "        for line in data_file:\n",
    "            if \"w\" in filename and \".txt\" in filename:\n",
    "                data = line.split()\n",
    "                filename = filename.replace(\".txt\", \"\")\n",
    "                print(\"model_weightdefault_t \", filename, \"[\", len(data), \"];\")\n",
    "                \n"
   ]
  },
  {
   "cell_type": "code",
   "execution_count": 3,
   "id": "538f50f1",
   "metadata": {},
   "outputs": [
    {
     "name": "stdout",
     "output_type": "stream",
     "text": [
      "w4,w22,w27,w18,w9,w13,w45,w36,w53,w31,w49,w40,\n"
     ]
    }
   ],
   "source": [
    "import os\n",
    "\n",
    "directory = os.fsencode(\"./\")\n",
    "\n",
    "final_string = \"\"\n",
    "    \n",
    "for file in os.listdir(directory):\n",
    "    filename = os.fsdecode(file)\n",
    "    if \".ipynb\" in filename:\n",
    "        continue\n",
    "#     print(filename)\n",
    "    with open(filename,'r') as data_file:\n",
    "        for line in data_file:\n",
    "            if \"w\" in filename and \".txt\" in filename:\n",
    "                data = line.split()\n",
    "                final_string = final_string + filename.replace(\".txt\", \"\") + \",\"\n",
    "#                 print(filename, \",\")\n",
    "                \n",
    "print(final_string)"
   ]
  },
  {
   "cell_type": "code",
   "execution_count": null,
   "id": "8d685e0a",
   "metadata": {},
   "outputs": [],
   "source": []
  }
 ],
 "metadata": {
  "kernelspec": {
   "display_name": "Python 3 (ipykernel)",
   "language": "python",
   "name": "python3"
  },
  "language_info": {
   "codemirror_mode": {
    "name": "ipython",
    "version": 3
   },
   "file_extension": ".py",
   "mimetype": "text/x-python",
   "name": "python",
   "nbconvert_exporter": "python",
   "pygments_lexer": "ipython3",
   "version": "3.8.10"
  }
 },
 "nbformat": 4,
 "nbformat_minor": 5
}
